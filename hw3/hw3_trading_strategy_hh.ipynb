{
 "cells": [
  {
   "cell_type": "markdown",
   "metadata": {},
   "source": [
    "# FINM 35910 - Homework 2\n",
    "## Harrison Holt"
   ]
  },
  {
   "cell_type": "markdown",
   "metadata": {},
   "source": [
    "## Setup"
   ]
  },
  {
   "cell_type": "code",
   "execution_count": 5,
   "metadata": {},
   "outputs": [],
   "source": [
    "import pandas as pd\n",
    "import numpy as np\n",
    "import matplotlib.pyplot as plt\n",
    "import plotly.graph_objects as go\n",
    "import plotly.express as px\n",
    "from datetime import datetime\n",
    "import pandas_ta as ta\n",
    "import seaborn as sn\n",
    "import statsmodels.tsa.stattools as ts\n",
    "from statsmodels.tsa.stattools import adfuller\n",
    "import sklearn\n",
    "from sklearn.preprocessing import MinMaxScaler,StandardScaler\n",
    "from sklearn.ensemble import RandomForestClassifier\n",
    "from sklearn.model_selection import train_test_split\n",
    "from sklearn.metrics import classification_report\n",
    "from sklearn.metrics import accuracy_score, confusion_matrix\n",
    "from sklearn.tree import DecisionTreeClassifier"
   ]
  },
  {
   "cell_type": "code",
   "execution_count": 6,
   "metadata": {},
   "outputs": [],
   "source": [
    "df = pd.read_parquet('Data/crypto.parquet')\n",
    "data = df.loc[df.index >= '2022-01-01']"
   ]
  },
  {
   "cell_type": "code",
   "execution_count": 7,
   "metadata": {},
   "outputs": [],
   "source": [
    "close_prices = data[['BTC_Close','ETH_Close']]\n",
    "btc_data = data[['BTC_Close','BTC_Trades']].copy()\n",
    "btc_data['BTC_Returns'] = btc_data['BTC_Close'].pct_change()"
   ]
  },
  {
   "cell_type": "code",
   "execution_count": 8,
   "metadata": {},
   "outputs": [
    {
     "data": {
      "text/html": [
       "<div>\n",
       "<style scoped>\n",
       "    .dataframe tbody tr th:only-of-type {\n",
       "        vertical-align: middle;\n",
       "    }\n",
       "\n",
       "    .dataframe tbody tr th {\n",
       "        vertical-align: top;\n",
       "    }\n",
       "\n",
       "    .dataframe thead th {\n",
       "        text-align: right;\n",
       "    }\n",
       "</style>\n",
       "<table border=\"1\" class=\"dataframe\">\n",
       "  <thead>\n",
       "    <tr style=\"text-align: right;\">\n",
       "      <th></th>\n",
       "      <th>BTC_Close</th>\n",
       "      <th>BTC_Trades</th>\n",
       "      <th>BTC_Returns</th>\n",
       "    </tr>\n",
       "    <tr>\n",
       "      <th>timestamp</th>\n",
       "      <th></th>\n",
       "      <th></th>\n",
       "      <th></th>\n",
       "    </tr>\n",
       "  </thead>\n",
       "  <tbody>\n",
       "    <tr>\n",
       "      <th>2022-01-01 00:00:00+00:00</th>\n",
       "      <td>46230.0</td>\n",
       "      <td>335</td>\n",
       "      <td>NaN</td>\n",
       "    </tr>\n",
       "    <tr>\n",
       "      <th>2022-01-01 00:01:00+00:00</th>\n",
       "      <td>46248.8</td>\n",
       "      <td>6</td>\n",
       "      <td>0.000407</td>\n",
       "    </tr>\n",
       "    <tr>\n",
       "      <th>2022-01-01 00:02:00+00:00</th>\n",
       "      <td>46329.9</td>\n",
       "      <td>18</td>\n",
       "      <td>0.001754</td>\n",
       "    </tr>\n",
       "    <tr>\n",
       "      <th>2022-01-01 00:03:00+00:00</th>\n",
       "      <td>46307.9</td>\n",
       "      <td>8</td>\n",
       "      <td>-0.000475</td>\n",
       "    </tr>\n",
       "    <tr>\n",
       "      <th>2022-01-01 00:05:00+00:00</th>\n",
       "      <td>46405.3</td>\n",
       "      <td>105</td>\n",
       "      <td>0.002103</td>\n",
       "    </tr>\n",
       "  </tbody>\n",
       "</table>\n",
       "</div>"
      ],
      "text/plain": [
       "                           BTC_Close  BTC_Trades  BTC_Returns\n",
       "timestamp                                                    \n",
       "2022-01-01 00:00:00+00:00    46230.0         335          NaN\n",
       "2022-01-01 00:01:00+00:00    46248.8           6     0.000407\n",
       "2022-01-01 00:02:00+00:00    46329.9          18     0.001754\n",
       "2022-01-01 00:03:00+00:00    46307.9           8    -0.000475\n",
       "2022-01-01 00:05:00+00:00    46405.3         105     0.002103"
      ]
     },
     "execution_count": 8,
     "metadata": {},
     "output_type": "execute_result"
    }
   ],
   "source": [
    "btc_data.head()"
   ]
  },
  {
   "cell_type": "code",
   "execution_count": 9,
   "metadata": {},
   "outputs": [],
   "source": [
    "def pairs_trading_signal(entry_threshold, exit_threshold, rolling_window):\n",
    "    scaler = StandardScaler()\n",
    "    norm_prices = pd.DataFrame(data=scaler.fit_transform(close_prices.values), columns=close_prices.columns, index=close_prices.index)\n",
    "\n",
    "\n",
    "    norm_prices['price_ratio'] = norm_prices['BTC_Close'] / norm_prices['ETH_Close']\n",
    "    norm_prices['z_score'] = (norm_prices['price_ratio'] - norm_prices['price_ratio'].rolling(rolling_window).mean()) / norm_prices['price_ratio'].rolling(120).std()\n",
    "\n",
    "    # norm_prices['Price_Ratio_Signal'] = 0\n",
    "\n",
    "    # norm_prices.loc[norm_prices['z_score'] > entry_threshold, 'Price_Ratio_Signal'] = -1 # Short signal (sell BTC, buy ETH)\n",
    "    # norm_prices.loc[norm_prices['z_score'] < -entry_threshold, 'Price_Ratio_Signal'] = 1 # Long signal (buy BTC, sell ETH)\n",
    "    # norm_prices.loc[norm_prices['z_score'].abs() < exit_threshold, 'Price_Ratio_Signal'] = 0 # Exit signal\n",
    "\n",
    "    return norm_prices['z_score'].values\n",
    "\n",
    "def add_trading_features(data):\n",
    "    df = data.copy()\n",
    "\n",
    "    feature_cols = []\n",
    "    fund = 'BTC'\n",
    "    sma_list = [str(i) for i in range(10,91,10)]\n",
    "    \n",
    "    for interval in sma_list:\n",
    "            # Calculate moving average\n",
    "            # df[fund + \"_\" + interval] = df[fund + \"_Close\"].rolling(int(interval)).mean() # For simple moving averages\n",
    "            df[\"EWMA_\" + interval] = df[fund + \"_Close\"].ewm(span=int(interval), adjust=False).mean() # For exponential moving averages\n",
    "            feature_cols.append(\"EWMA_\" + interval)\n",
    "            # # Calculate difference between month end price and moving average\n",
    "            # df[\"EWMA\" + \"_\" + interval] = df[fund + \"_Close\"] - df[\"EWMA\" + \"_\" + interval]\n",
    "\n",
    "            # # Generate binary output on whether month end price is greater or less than moving average\n",
    "            # df[\"EWMA\" + \"_\" + interval + \"_Sig\"] = np.where(df[fund + \"_Close\"] > df[\"EWMA\" + \"_\" + interval], 1, 0)\n",
    "\n",
    "            # # Generate diff from binary output above\n",
    "            # df[\"EWMA\" + \"_\" + interval + \"_Sig_Change\"] = df[\"EWMA\" + \"_\" + interval + \"_Sig\"].diff()\n",
    "\n",
    "            # # Generate order from diff above\n",
    "            # col = 'EWMA' + \"_\" + interval + \"_Sig_Change\"\n",
    "            # conditions = [df[col] == 1, df[col] == 0, df[col] == -1]\n",
    "            # choices = [1, 0, -1]\n",
    "\n",
    "            # # df[fund + \"_\" + interval + \"_Action\"] = np.select(conditions, choices, default=np.nan)\n",
    "            # df['EWMA' + \"_\" + interval] = np.select(conditions, choices, default=None)\n",
    "            \n",
    "            # drop_cols = [col for col in df.columns if 'Sig' in col]\n",
    "            # df.drop(drop_cols, axis=1, inplace=True)\n",
    "    \n",
    "    df['Price_Ratio_Signal'] = pairs_trading_signal(entry_threshold=1.00, exit_threshold=0.30, rolling_window=120)\n",
    "    feature_cols.append('Price_Ratio_Signal')\n",
    "\n",
    "    def f(x):\n",
    "        if x > 0.0001:\n",
    "            return 1\n",
    "        elif x < -0.00001:\n",
    "            return -1\n",
    "        else:\n",
    "            return 0\n",
    "\n",
    "    df[fund+'_Returns_Shift'] = df['BTC_Returns'].shift(-1)\n",
    "    df = df.dropna()\n",
    "    y_binary = df[fund+'_Returns_Shift'].apply(f)\n",
    "    print(feature_cols)\n",
    "    X = df[feature_cols].copy()\n",
    "    \n",
    "    return X, y_binary, df"
   ]
  },
  {
   "cell_type": "markdown",
   "metadata": {},
   "source": [
    "## Random Forests\n",
    "### Cross validation parameters"
   ]
  },
  {
   "cell_type": "code",
   "execution_count": 10,
   "metadata": {},
   "outputs": [
    {
     "name": "stdout",
     "output_type": "stream",
     "text": [
      "['EWMA_10', 'EWMA_20', 'EWMA_30', 'EWMA_40', 'EWMA_50', 'EWMA_60', 'EWMA_70', 'EWMA_80', 'EWMA_90', 'Price_Ratio_Signal']\n"
     ]
    },
    {
     "data": {
      "text/html": [
       "<div>\n",
       "<style scoped>\n",
       "    .dataframe tbody tr th:only-of-type {\n",
       "        vertical-align: middle;\n",
       "    }\n",
       "\n",
       "    .dataframe tbody tr th {\n",
       "        vertical-align: top;\n",
       "    }\n",
       "\n",
       "    .dataframe thead th {\n",
       "        text-align: right;\n",
       "    }\n",
       "</style>\n",
       "<table border=\"1\" class=\"dataframe\">\n",
       "  <thead>\n",
       "    <tr style=\"text-align: right;\">\n",
       "      <th></th>\n",
       "      <th>BTC_Close</th>\n",
       "      <th>BTC_Trades</th>\n",
       "      <th>BTC_Returns</th>\n",
       "      <th>EWMA_10</th>\n",
       "      <th>EWMA_20</th>\n",
       "      <th>EWMA_30</th>\n",
       "      <th>EWMA_40</th>\n",
       "      <th>EWMA_50</th>\n",
       "      <th>EWMA_60</th>\n",
       "      <th>EWMA_70</th>\n",
       "      <th>EWMA_80</th>\n",
       "      <th>EWMA_90</th>\n",
       "      <th>Price_Ratio_Signal</th>\n",
       "      <th>BTC_Returns_Shift</th>\n",
       "    </tr>\n",
       "    <tr>\n",
       "      <th>timestamp</th>\n",
       "      <th></th>\n",
       "      <th></th>\n",
       "      <th></th>\n",
       "      <th></th>\n",
       "      <th></th>\n",
       "      <th></th>\n",
       "      <th></th>\n",
       "      <th></th>\n",
       "      <th></th>\n",
       "      <th></th>\n",
       "      <th></th>\n",
       "      <th></th>\n",
       "      <th></th>\n",
       "      <th></th>\n",
       "    </tr>\n",
       "  </thead>\n",
       "  <tbody>\n",
       "    <tr>\n",
       "      <th>2022-01-01 03:12:00+00:00</th>\n",
       "      <td>46844.7</td>\n",
       "      <td>4</td>\n",
       "      <td>0.000160</td>\n",
       "      <td>46809.215164</td>\n",
       "      <td>46805.990848</td>\n",
       "      <td>46804.990253</td>\n",
       "      <td>46800.180785</td>\n",
       "      <td>46791.005201</td>\n",
       "      <td>46778.395534</td>\n",
       "      <td>46763.524835</td>\n",
       "      <td>46747.385045</td>\n",
       "      <td>46730.705909</td>\n",
       "      <td>1.187280</td>\n",
       "      <td>0.000002</td>\n",
       "    </tr>\n",
       "    <tr>\n",
       "      <th>2022-01-01 03:13:00+00:00</th>\n",
       "      <td>46844.8</td>\n",
       "      <td>2</td>\n",
       "      <td>0.000002</td>\n",
       "      <td>46815.685134</td>\n",
       "      <td>46809.686958</td>\n",
       "      <td>46807.558624</td>\n",
       "      <td>46802.357332</td>\n",
       "      <td>46793.114801</td>\n",
       "      <td>46780.572729</td>\n",
       "      <td>46765.814276</td>\n",
       "      <td>46749.790353</td>\n",
       "      <td>46733.213472</td>\n",
       "      <td>1.147874</td>\n",
       "      <td>0.000000</td>\n",
       "    </tr>\n",
       "    <tr>\n",
       "      <th>2022-01-01 03:15:00+00:00</th>\n",
       "      <td>46844.8</td>\n",
       "      <td>6</td>\n",
       "      <td>0.000000</td>\n",
       "      <td>46820.978746</td>\n",
       "      <td>46813.031057</td>\n",
       "      <td>46809.961293</td>\n",
       "      <td>46804.427706</td>\n",
       "      <td>46795.141672</td>\n",
       "      <td>46782.678541</td>\n",
       "      <td>46768.039226</td>\n",
       "      <td>46752.136270</td>\n",
       "      <td>46735.665923</td>\n",
       "      <td>1.105759</td>\n",
       "      <td>0.000768</td>\n",
       "    </tr>\n",
       "    <tr>\n",
       "      <th>2022-01-01 03:16:00+00:00</th>\n",
       "      <td>46880.8</td>\n",
       "      <td>16</td>\n",
       "      <td>0.000768</td>\n",
       "      <td>46831.855338</td>\n",
       "      <td>46819.485242</td>\n",
       "      <td>46814.531532</td>\n",
       "      <td>46808.153184</td>\n",
       "      <td>46798.500822</td>\n",
       "      <td>46785.895638</td>\n",
       "      <td>46771.215586</td>\n",
       "      <td>46755.313152</td>\n",
       "      <td>46738.855683</td>\n",
       "      <td>1.199996</td>\n",
       "      <td>0.000096</td>\n",
       "    </tr>\n",
       "    <tr>\n",
       "      <th>2022-01-01 03:17:00+00:00</th>\n",
       "      <td>46885.3</td>\n",
       "      <td>3</td>\n",
       "      <td>0.000096</td>\n",
       "      <td>46841.572549</td>\n",
       "      <td>46825.753314</td>\n",
       "      <td>46819.097240</td>\n",
       "      <td>46811.916443</td>\n",
       "      <td>46801.904711</td>\n",
       "      <td>46789.154798</td>\n",
       "      <td>46774.429231</td>\n",
       "      <td>46758.522704</td>\n",
       "      <td>46742.074239</td>\n",
       "      <td>1.227697</td>\n",
       "      <td>0.000002</td>\n",
       "    </tr>\n",
       "  </tbody>\n",
       "</table>\n",
       "</div>"
      ],
      "text/plain": [
       "                           BTC_Close  BTC_Trades  BTC_Returns       EWMA_10  \\\n",
       "timestamp                                                                     \n",
       "2022-01-01 03:12:00+00:00    46844.7           4     0.000160  46809.215164   \n",
       "2022-01-01 03:13:00+00:00    46844.8           2     0.000002  46815.685134   \n",
       "2022-01-01 03:15:00+00:00    46844.8           6     0.000000  46820.978746   \n",
       "2022-01-01 03:16:00+00:00    46880.8          16     0.000768  46831.855338   \n",
       "2022-01-01 03:17:00+00:00    46885.3           3     0.000096  46841.572549   \n",
       "\n",
       "                                EWMA_20       EWMA_30       EWMA_40  \\\n",
       "timestamp                                                             \n",
       "2022-01-01 03:12:00+00:00  46805.990848  46804.990253  46800.180785   \n",
       "2022-01-01 03:13:00+00:00  46809.686958  46807.558624  46802.357332   \n",
       "2022-01-01 03:15:00+00:00  46813.031057  46809.961293  46804.427706   \n",
       "2022-01-01 03:16:00+00:00  46819.485242  46814.531532  46808.153184   \n",
       "2022-01-01 03:17:00+00:00  46825.753314  46819.097240  46811.916443   \n",
       "\n",
       "                                EWMA_50       EWMA_60       EWMA_70  \\\n",
       "timestamp                                                             \n",
       "2022-01-01 03:12:00+00:00  46791.005201  46778.395534  46763.524835   \n",
       "2022-01-01 03:13:00+00:00  46793.114801  46780.572729  46765.814276   \n",
       "2022-01-01 03:15:00+00:00  46795.141672  46782.678541  46768.039226   \n",
       "2022-01-01 03:16:00+00:00  46798.500822  46785.895638  46771.215586   \n",
       "2022-01-01 03:17:00+00:00  46801.904711  46789.154798  46774.429231   \n",
       "\n",
       "                                EWMA_80       EWMA_90  Price_Ratio_Signal  \\\n",
       "timestamp                                                                   \n",
       "2022-01-01 03:12:00+00:00  46747.385045  46730.705909            1.187280   \n",
       "2022-01-01 03:13:00+00:00  46749.790353  46733.213472            1.147874   \n",
       "2022-01-01 03:15:00+00:00  46752.136270  46735.665923            1.105759   \n",
       "2022-01-01 03:16:00+00:00  46755.313152  46738.855683            1.199996   \n",
       "2022-01-01 03:17:00+00:00  46758.522704  46742.074239            1.227697   \n",
       "\n",
       "                           BTC_Returns_Shift  \n",
       "timestamp                                     \n",
       "2022-01-01 03:12:00+00:00           0.000002  \n",
       "2022-01-01 03:13:00+00:00           0.000000  \n",
       "2022-01-01 03:15:00+00:00           0.000768  \n",
       "2022-01-01 03:16:00+00:00           0.000096  \n",
       "2022-01-01 03:17:00+00:00           0.000002  "
      ]
     },
     "execution_count": 10,
     "metadata": {},
     "output_type": "execute_result"
    }
   ],
   "source": [
    "prep_data_tuple = add_trading_features(btc_data)\n",
    "prep_df = prep_data_tuple[2].copy()\n",
    "prep_df.head(5)"
   ]
  },
  {
   "cell_type": "code",
   "execution_count": 11,
   "metadata": {},
   "outputs": [],
   "source": [
    "df_train = prep_df.loc['2022-01-01':'2024-03-31'].dropna()\n",
    "df_valid = prep_df.loc['2024-04-01':'2024-06-30'].dropna()\n",
    "df_test = prep_df.loc['2024-07-01':'2024-09-30'].dropna()"
   ]
  },
  {
   "cell_type": "code",
   "execution_count": 23,
   "metadata": {},
   "outputs": [],
   "source": [
    "train = df_train.reset_index().drop(['timestamp','BTC_Close','BTC_Trades','BTC_Returns','BTC_Returns_Shift'], axis=1).copy()\n",
    "valid = df_valid.reset_index().drop(['timestamp','BTC_Close','BTC_Trades','BTC_Returns','BTC_Returns_Shift'], axis=1).copy()\n",
    "test = df_test.reset_index().drop(['timestamp','BTC_Close','BTC_Trades','BTC_Returns','BTC_Returns_Shift'], axis=1).copy()\n",
    "\n",
    "train_stock_returns = df_train['BTC_Returns_Shift']\n",
    "valid_stock_returns = df_valid['BTC_Returns_Shift']\n",
    "test_stock_returns = df_test['BTC_Returns_Shift']\n",
    "\n",
    "y_train = prep_data_tuple[1].loc['2022-01-01':'2024-03-31']\n",
    "y_valid = prep_data_tuple[1].loc['2024-04-01':'2024-06-30']\n",
    "y_test = prep_data_tuple[1].loc['2024-07-01':'2024-09-30']\n",
    "\n",
    "y_train = y_train.values\n",
    "y_valid = y_valid.values\n",
    "y_test = y_test.values"
   ]
  },
  {
   "cell_type": "code",
   "execution_count": 13,
   "metadata": {},
   "outputs": [
    {
     "name": "stderr",
     "output_type": "stream",
     "text": [
      "[I 2024-11-22 16:44:12,301] A new study created in memory with name: no-name-fb4965b1-3e34-4ab2-9628-a3eb7f9f731b\n"
     ]
    }
   ],
   "source": [
    "import optuna\n",
    "from optuna.trial import Trial\n",
    "from functools import partial\n",
    "\n",
    "def objective(trial:Trial,train=None,labels=None,val=None,val_labels=None,val_rets=None):\n",
    "\n",
    "    rf_n_estimators = trial.suggest_int('n_estimators', 10,40,step=5)\n",
    "    rf_max_features = trial.suggest_categorical('max_features',['sqrt','log2'])\n",
    "    rf_min_samples_leaf = trial.suggest_int('min_samples_leaf',400,2400,step=400)\n",
    "    rf_max_depth = trial.suggest_int('max_depth',5,25,step=5)\n",
    "    \n",
    "    rf_clf = RandomForestClassifier(n_estimators=rf_n_estimators,\n",
    "                                    max_depth=rf_max_depth,\n",
    "                                    min_samples_leaf=rf_min_samples_leaf,\n",
    "                                    max_features=rf_max_features)\n",
    "    rf_clf.fit(train,labels)\n",
    "    preds = rf_clf.predict(val)\n",
    "    profit = (preds * val_rets).sum()\n",
    " \n",
    "    return profit\n",
    "\n",
    "study = optuna.create_study(direction=\"maximize\")"
   ]
  },
  {
   "cell_type": "code",
   "execution_count": null,
   "metadata": {},
   "outputs": [],
   "source": [
    "%%time\n",
    "study.optimize(partial(objective,train=train,labels=y_train,val=valid,val_labels=y_valid,val_rets=valid_stock_returns), n_trials=20,n_jobs=-1)"
   ]
  },
  {
   "cell_type": "code",
   "execution_count": 14,
   "metadata": {},
   "outputs": [],
   "source": [
    "best_params = {'n_estimators': 15, 'max_features': 'sqrt', 'min_samples_leaf': 1600, 'max_depth': 5}\n",
    "rf_clf = RandomForestClassifier(**best_params)\n",
    "rf_clf.fit(train,y_train)\n",
    "preds = rf_clf.predict(valid)"
   ]
  },
  {
   "cell_type": "code",
   "execution_count": 15,
   "metadata": {},
   "outputs": [],
   "source": [
    "def randomforest_feat_importances(m, df):\n",
    "        \n",
    "    return pd.DataFrame({'cols':df.columns, 'feat_imp': m.feature_importances_}\n",
    "                       ).sort_values('feat_imp', ascending=False)\n",
    "\n",
    "def plot_fi(fi): return fi.plot('cols', 'feat_imp', 'barh', figsize=(12,7), legend=False)"
   ]
  },
  {
   "cell_type": "code",
   "execution_count": 16,
   "metadata": {},
   "outputs": [
    {
     "data": {
      "text/plain": [
       "40.47739022496079"
      ]
     },
     "execution_count": 16,
     "metadata": {},
     "output_type": "execute_result"
    }
   ],
   "source": [
    "valid_profit = (preds * valid_stock_returns).sum()\n",
    "valid_profit"
   ]
  },
  {
   "cell_type": "code",
   "execution_count": 17,
   "metadata": {},
   "outputs": [
    {
     "data": {
      "text/plain": [
       "48.48435018528202"
      ]
     },
     "execution_count": 17,
     "metadata": {},
     "output_type": "execute_result"
    }
   ],
   "source": [
    "pred_test = rf_clf.predict(test)\n",
    "test_profit = (pred_test * test_stock_returns).sum()\n",
    "test_profit"
   ]
  },
  {
   "cell_type": "code",
   "execution_count": 19,
   "metadata": {},
   "outputs": [
    {
     "name": "stdout",
     "output_type": "stream",
     "text": [
      "[[36192     0     0]\n",
      " [  299 26683 15674]\n",
      " [    0     0 32613]]\n",
      "0.8566942697445743\n"
     ]
    }
   ],
   "source": [
    "print(confusion_matrix(y_valid, preds))\n",
    "print(accuracy_score(y_valid, preds)) "
   ]
  },
  {
   "cell_type": "code",
   "execution_count": 20,
   "metadata": {},
   "outputs": [],
   "source": [
    "fi = randomforest_feat_importances(rf_clf, train)"
   ]
  },
  {
   "cell_type": "code",
   "execution_count": 22,
   "metadata": {},
   "outputs": [
    {
     "data": {
      "text/plain": [
       "<Axes: ylabel='cols'>"
      ]
     },
     "execution_count": 22,
     "metadata": {},
     "output_type": "execute_result"
    },
    {
     "data": {
      "image/png": "[encoded data removed]",
      "text/plain": [
       "<Figure size 1200x700 with 1 Axes>"
      ]
     },
     "metadata": {},
     "output_type": "display_data"
    }
   ],
   "source": [
    "plot_fi(fi)"
   ]
  },
  {
   "cell_type": "code",
   "execution_count": null,
   "metadata": {},
   "outputs": [],
   "source": []
  }
 ],
 "metadata": {
  "kernelspec": {
   "display_name": "finm",
   "language": "python",
   "name": "python3"
  },
  "language_info": {
   "codemirror_mode": {
    "name": "ipython",
    "version": 3
   },
   "file_extension": ".py",
   "mimetype": "text/x-python",
   "name": "python",
   "nbconvert_exporter": "python",
   "pygments_lexer": "ipython3",
   "version": "3.12.1"
  }
 },
 "nbformat": 4,
 "nbformat_minor": 2
}
